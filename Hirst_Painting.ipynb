{
  "nbformat": 4,
  "nbformat_minor": 0,
  "metadata": {
    "colab": {
      "provenance": [],
      "authorship_tag": "ABX9TyNk2zfng6748Wj/styBk2js",
      "include_colab_link": true
    },
    "kernelspec": {
      "name": "python3",
      "display_name": "Python 3"
    },
    "language_info": {
      "name": "python"
    }
  },
  "cells": [
    {
      "cell_type": "markdown",
      "metadata": {
        "id": "view-in-github",
        "colab_type": "text"
      },
      "source": [
        "<a href=\"https://colab.research.google.com/github/aayushkaushik009/Python-projects/blob/main/Hirst_Painting.ipynb\" target=\"_parent\"><img src=\"https://colab.research.google.com/assets/colab-badge.svg\" alt=\"Open In Colab\"/></a>"
      ]
    },
    {
      "cell_type": "markdown",
      "source": [
        "# DAMIEN HIRST PAINTING\n",
        "\n",
        "\n",
        "> 🧑‍💻 In this coding odyssey, I've harnessed the power of Python to dissect the intricate details of Hirst's masterpiece. From color palettes to brushstroke patterns, every pixel tells a story. Dive deep into the code on my Google Colab notebook to witness the fusion of art and technology.\n",
        "\n",
        "\n",
        "\n"
      ],
      "metadata": {
        "id": "nrKIYCHs8ToQ"
      }
    },
    {
      "cell_type": "markdown",
      "source": [
        "#Installing colorgram\n",
        ">\n",
        "\n",
        "1. Introduction:\n",
        "In this code exploration, we embark on a captivating journey where art converges with technology. The primary goal is to analyze a random image, particularly inspired by the works of Damien Hirst. To achieve this, we employ Google Colab, a powerful platform that seamlessly integrates code and collaboration.\n",
        "\n",
        "2. Preparing the Canvas:\n",
        "Before delving into the intricacies of Damien Hirst's masterpiece, we set the stage by installing the 'colorgram' library. This library serves as our virtual palette, enabling us to extract vibrant colors from the image. These colors will later be a key component of our analysis, unraveling the artistic nuances hidden within the pixels."
      ],
      "metadata": {
        "id": "5JYEYwD0-I2S"
      }
    },
    {
      "cell_type": "code",
      "execution_count": 48,
      "metadata": {
        "colab": {
          "base_uri": "https://localhost:8080/"
        },
        "id": "i0n84Ad5oref",
        "outputId": "21fa8d75-f37b-4406-b62d-bcdd96d0522b"
      },
      "outputs": [
        {
          "output_type": "stream",
          "name": "stdout",
          "text": [
            "Requirement already satisfied: colorgram.py in /usr/local/lib/python3.10/dist-packages (1.2.0)\n",
            "Requirement already satisfied: pillow>=3.3.1 in /usr/local/lib/python3.10/dist-packages (from colorgram.py) (9.4.0)\n"
          ]
        }
      ],
      "source": [
        "!pip install colorgram.py\n",
        "import colorgram\n",
        "import random\n"
      ]
    },
    {
      "cell_type": "markdown",
      "source": [
        "3. Extracting Colors:\n",
        "With our virtual palette ready, we proceed to extract colors from the random image. The 'colorgram' library proves to be a valuable ally, efficiently retrieving a spectrum of colors present in the artwork. Each color extracted becomes a data point, offering insights into the artistic choices made by Damien Hirst.\n",
        "\n",
        "4. Analyzing the Palette:\n",
        "Now armed with a collection of colors, we dive into the analysis phase. This involves exploring the distribution of colors, identifying dominant hues, and deciphering any patterns or gradients present. By examining the color palette, we gain a deeper understanding of the visual composition of the artwork, unlocking the secrets of its aesthetic appeal."
      ],
      "metadata": {
        "id": "SNyFYol2-1TX"
      }
    },
    {
      "cell_type": "code",
      "source": [
        "rgb_colors = []\n",
        "colors = colorgram.extract('image.jpg', 30)\n",
        "for color in colors:\n",
        "  r = color.rgb.r\n",
        "  g = color.rgb.g\n",
        "  b = color.rgb.b\n",
        "  new_color = (r,g,b)\n",
        "  rgb_colors.append(new_color)\n",
        "\n",
        "print(rgb_colors)"
      ],
      "metadata": {
        "colab": {
          "base_uri": "https://localhost:8080/"
        },
        "id": "pAoxCs_Tsput",
        "outputId": "a621af0d-a39c-416a-a702-23c580b214b1"
      },
      "execution_count": 25,
      "outputs": [
        {
          "output_type": "stream",
          "name": "stdout",
          "text": [
            "[(250, 247, 244), (248, 245, 246), (213, 154, 96), (52, 107, 132), (179, 77, 31), (202, 142, 31), (115, 155, 171), (124, 79, 99), (122, 175, 156), (229, 236, 239), (226, 198, 131), (242, 247, 244), (192, 87, 108), (11, 50, 64), (55, 38, 19), (45, 168, 126), (47, 127, 123), (200, 121, 143), (168, 21, 29), (228, 92, 77), (244, 162, 160), (38, 32, 35), (2, 25, 24), (78, 147, 171), (170, 23, 18), (19, 79, 90), (101, 126, 158), (235, 166, 171), (177, 204, 185), (49, 62, 84)]\n"
          ]
        }
      ]
    },
    {
      "cell_type": "markdown",
      "source": [
        "7. Adding a Splash of Art with collabturtle:\n",
        "To infuse the spirit of playful creativity into our code, we introduce the collabturtle library. This delightful addition allows us to leverage the timeless joy of turtle graphics, bringing a unique and dynamic element to our analysis. Installing the library is the first step towards transforming our color insights into a mesmerizing turtle painting.\n"
      ],
      "metadata": {
        "id": "zkJhaMZt_CfO"
      }
    },
    {
      "cell_type": "code",
      "source": [
        "!pip install ColabTurtlePlus==1.5\n",
        "\n"
      ],
      "metadata": {
        "colab": {
          "base_uri": "https://localhost:8080/"
        },
        "id": "nivlFsbFpZLU",
        "outputId": "6acf43b0-0569-4c30-ccad-e7c3206988bd"
      },
      "execution_count": 40,
      "outputs": [
        {
          "output_type": "stream",
          "name": "stdout",
          "text": [
            "Collecting ColabTurtlePlus==1.5\n",
            "  Downloading ColabTurtlePlus-1.5-py3-none-any.whl (28 kB)\n",
            "Installing collected packages: ColabTurtlePlus\n",
            "Successfully installed ColabTurtlePlus-1.5\n"
          ]
        }
      ]
    },
    {
      "cell_type": "code",
      "source": [
        "import ColabTurtlePlus.Turtle as lia"
      ],
      "metadata": {
        "id": "oNqHk9LspfVp"
      },
      "execution_count": 41,
      "outputs": []
    },
    {
      "cell_type": "code",
      "source": [
        "lia.initializeTurtle(speed=10)\n",
        "lia.color(\"red\")\n",
        "# lia.speed(\"fastest\")\n",
        "\n"
      ],
      "metadata": {
        "colab": {
          "base_uri": "https://localhost:8080/",
          "height": 622
        },
        "id": "gpT05_8Xp4si",
        "outputId": "b177d43e-454d-4cd3-8e05-30b855828853"
      },
      "execution_count": 75,
      "outputs": [
        {
          "output_type": "display_data",
          "data": {
            "text/plain": [
              "<IPython.core.display.HTML object>"
            ],
            "text/html": [
              "\n",
              "      <svg width=\"800\" height=\"600\">  \n",
              "        <rect width=\"100%\" height=\"100%\" style=\"fill:white;stroke:;stroke-width:1\"/>\n",
              "        \n",
              "        \n",
              "        \n",
              "        \n",
              "        <g id=\"classic\" visibility=\"visible\" transform=\"rotate(-90,400.0,300.0) translate(400.0, 300.0)\">\n",
              "<polygon points=\"-5,-4.5 0,-2.5 5,-4.5 0,4.5\" transform=\"skewX(0) scale(1,1)\" style=\"stroke:red;fill:red;stroke-width:1\" />\n",
              "</g>\n",
              "      </svg>\n",
              "    "
            ]
          },
          "metadata": {}
        }
      ]
    },
    {
      "cell_type": "markdown",
      "source": [
        "8. Defining the Turtle Painting Algorithm:\n",
        "With collabturtle at our disposal, we define an algorithm that translates the color insights obtained earlier into a captivating turtle painting. The algorithm interprets each color extracted from the image and guides the turtle in crafting strokes that mimic the essence of the artwork. This step is where the synergy of art, code, and playful graphics truly shines.\n",
        "\n",
        "9. Conclusion:\n",
        "In this final phase, the code transcends traditional boundaries, transforming color data into a living, breathing piece of art. The turtle painting is not merely a visual output; it's a testament to the limitless possibilities that arise when code and creativity dance in harmony on the canvas of Google Colab."
      ],
      "metadata": {
        "id": "9ip-UE7v_qN8"
      }
    },
    {
      "cell_type": "code",
      "source": [
        "# lia.done()\n",
        "lia.clear()\n",
        "lia.penup()\n",
        "lia.hideturtle()\n",
        "lia.setposition(0,0)\n",
        "lia.setheading(220)\n",
        "lia.forward(290)\n",
        "lia.setheading(0)\n",
        "\n",
        "number_of_dots=100\n",
        "\n",
        "for dot_count in range(1,number_of_dots+1):\n",
        "\n",
        "  lia.dot(20,random.choice(rgb_colors))\n",
        "  lia.forward(50)\n",
        "\n",
        "  if dot_count%10==0:\n",
        "    lia.setheading(90)\n",
        "    lia.forward(50)\n",
        "    lia.setheading(180)\n",
        "    lia.forward(500)\n",
        "    lia.setheading(0)\n",
        "\n",
        "\n",
        "\n",
        "\n",
        "\n",
        "\n",
        "\n",
        "\n"
      ],
      "metadata": {
        "colab": {
          "base_uri": "https://localhost:8080/",
          "height": 622
        },
        "id": "d_E48t5dr-7M",
        "outputId": "8295d2e1-f4ff-4362-fccd-12b0209bdb24"
      },
      "execution_count": 74,
      "outputs": [
        {
          "output_type": "display_data",
          "data": {
            "text/plain": [
              "<IPython.core.display.HTML object>"
            ],
            "text/html": [
              "\n",
              "      <svg width=\"800\" height=\"600\">  \n",
              "        <rect width=\"100%\" height=\"100%\" style=\"fill:white;stroke:;stroke-width:1\"/>\n",
              "        \n",
              "        \n",
              "        <circle cx=\"177.847\" cy=\"486.408\" r=\"10.0\" fill=\"rgb(229,236,239)\" fill-opacity=\"1\" /><circle cx=\"227.847\" cy=\"486.408\" r=\"10.0\" fill=\"rgb(47,127,123)\" fill-opacity=\"1\" /><circle cx=\"277.847\" cy=\"486.408\" r=\"10.0\" fill=\"rgb(177,204,185)\" fill-opacity=\"1\" /><circle cx=\"327.847\" cy=\"486.408\" r=\"10.0\" fill=\"rgb(2,25,24)\" fill-opacity=\"1\" /><circle cx=\"377.847\" cy=\"486.408\" r=\"10.0\" fill=\"rgb(229,236,239)\" fill-opacity=\"1\" /><circle cx=\"427.847\" cy=\"486.408\" r=\"10.0\" fill=\"rgb(250,247,244)\" fill-opacity=\"1\" /><circle cx=\"477.847\" cy=\"486.408\" r=\"10.0\" fill=\"rgb(170,23,18)\" fill-opacity=\"1\" /><circle cx=\"527.847\" cy=\"486.408\" r=\"10.0\" fill=\"rgb(192,87,108)\" fill-opacity=\"1\" /><circle cx=\"577.847\" cy=\"486.408\" r=\"10.0\" fill=\"rgb(52,107,132)\" fill-opacity=\"1\" /><circle cx=\"627.847\" cy=\"486.408\" r=\"10.0\" fill=\"rgb(200,121,143)\" fill-opacity=\"1\" /><circle cx=\"177.847\" cy=\"436.408\" r=\"10.0\" fill=\"rgb(244,162,160)\" fill-opacity=\"1\" /><circle cx=\"227.847\" cy=\"436.408\" r=\"10.0\" fill=\"rgb(52,107,132)\" fill-opacity=\"1\" /><circle cx=\"277.847\" cy=\"436.408\" r=\"10.0\" fill=\"rgb(101,126,158)\" fill-opacity=\"1\" /><circle cx=\"327.847\" cy=\"436.408\" r=\"10.0\" fill=\"rgb(242,247,244)\" fill-opacity=\"1\" /><circle cx=\"377.847\" cy=\"436.408\" r=\"10.0\" fill=\"rgb(49,62,84)\" fill-opacity=\"1\" /><circle cx=\"427.847\" cy=\"436.408\" r=\"10.0\" fill=\"rgb(200,121,143)\" fill-opacity=\"1\" /><circle cx=\"477.847\" cy=\"436.408\" r=\"10.0\" fill=\"rgb(200,121,143)\" fill-opacity=\"1\" /><circle cx=\"527.847\" cy=\"436.408\" r=\"10.0\" fill=\"rgb(200,121,143)\" fill-opacity=\"1\" /><circle cx=\"577.847\" cy=\"436.408\" r=\"10.0\" fill=\"rgb(78,147,171)\" fill-opacity=\"1\" /><circle cx=\"627.847\" cy=\"436.408\" r=\"10.0\" fill=\"rgb(226,198,131)\" fill-opacity=\"1\" /><circle cx=\"177.847\" cy=\"386.408\" r=\"10.0\" fill=\"rgb(45,168,126)\" fill-opacity=\"1\" /><circle cx=\"227.847\" cy=\"386.408\" r=\"10.0\" fill=\"rgb(179,77,31)\" fill-opacity=\"1\" /><circle cx=\"277.847\" cy=\"386.408\" r=\"10.0\" fill=\"rgb(248,245,246)\" fill-opacity=\"1\" /><circle cx=\"327.847\" cy=\"386.408\" r=\"10.0\" fill=\"rgb(248,245,246)\" fill-opacity=\"1\" /><circle cx=\"377.847\" cy=\"386.408\" r=\"10.0\" fill=\"rgb(235,166,171)\" fill-opacity=\"1\" /><circle cx=\"427.847\" cy=\"386.408\" r=\"10.0\" fill=\"rgb(244,162,160)\" fill-opacity=\"1\" /><circle cx=\"477.847\" cy=\"386.408\" r=\"10.0\" fill=\"rgb(250,247,244)\" fill-opacity=\"1\" /><circle cx=\"527.847\" cy=\"386.408\" r=\"10.0\" fill=\"rgb(11,50,64)\" fill-opacity=\"1\" /><circle cx=\"577.847\" cy=\"386.408\" r=\"10.0\" fill=\"rgb(2,25,24)\" fill-opacity=\"1\" /><circle cx=\"627.847\" cy=\"386.408\" r=\"10.0\" fill=\"rgb(11,50,64)\" fill-opacity=\"1\" /><circle cx=\"177.847\" cy=\"336.408\" r=\"10.0\" fill=\"rgb(248,245,246)\" fill-opacity=\"1\" /><circle cx=\"227.847\" cy=\"336.408\" r=\"10.0\" fill=\"rgb(248,245,246)\" fill-opacity=\"1\" /><circle cx=\"277.847\" cy=\"336.408\" r=\"10.0\" fill=\"rgb(45,168,126)\" fill-opacity=\"1\" /><circle cx=\"327.847\" cy=\"336.408\" r=\"10.0\" fill=\"rgb(19,79,90)\" fill-opacity=\"1\" /><circle cx=\"377.847\" cy=\"336.408\" r=\"10.0\" fill=\"rgb(250,247,244)\" fill-opacity=\"1\" /><circle cx=\"427.847\" cy=\"336.408\" r=\"10.0\" fill=\"rgb(47,127,123)\" fill-opacity=\"1\" /><circle cx=\"477.847\" cy=\"336.408\" r=\"10.0\" fill=\"rgb(200,121,143)\" fill-opacity=\"1\" /><circle cx=\"527.847\" cy=\"336.408\" r=\"10.0\" fill=\"rgb(202,142,31)\" fill-opacity=\"1\" /><circle cx=\"577.847\" cy=\"336.408\" r=\"10.0\" fill=\"rgb(244,162,160)\" fill-opacity=\"1\" /><circle cx=\"627.847\" cy=\"336.408\" r=\"10.0\" fill=\"rgb(213,154,96)\" fill-opacity=\"1\" /><circle cx=\"177.847\" cy=\"286.408\" r=\"10.0\" fill=\"rgb(52,107,132)\" fill-opacity=\"1\" /><circle cx=\"227.847\" cy=\"286.408\" r=\"10.0\" fill=\"rgb(19,79,90)\" fill-opacity=\"1\" /><circle cx=\"277.847\" cy=\"286.408\" r=\"10.0\" fill=\"rgb(177,204,185)\" fill-opacity=\"1\" /><circle cx=\"327.847\" cy=\"286.408\" r=\"10.0\" fill=\"rgb(192,87,108)\" fill-opacity=\"1\" /><circle cx=\"377.847\" cy=\"286.408\" r=\"10.0\" fill=\"rgb(244,162,160)\" fill-opacity=\"1\" /><circle cx=\"427.847\" cy=\"286.408\" r=\"10.0\" fill=\"rgb(55,38,19)\" fill-opacity=\"1\" /><circle cx=\"477.847\" cy=\"286.408\" r=\"10.0\" fill=\"rgb(179,77,31)\" fill-opacity=\"1\" /><circle cx=\"527.847\" cy=\"286.408\" r=\"10.0\" fill=\"rgb(38,32,35)\" fill-opacity=\"1\" /><circle cx=\"577.847\" cy=\"286.408\" r=\"10.0\" fill=\"rgb(11,50,64)\" fill-opacity=\"1\" /><circle cx=\"627.847\" cy=\"286.408\" r=\"10.0\" fill=\"rgb(213,154,96)\" fill-opacity=\"1\" /><circle cx=\"177.847\" cy=\"236.408\" r=\"10.0\" fill=\"rgb(202,142,31)\" fill-opacity=\"1\" /><circle cx=\"227.847\" cy=\"236.408\" r=\"10.0\" fill=\"rgb(115,155,171)\" fill-opacity=\"1\" /><circle cx=\"277.847\" cy=\"236.408\" r=\"10.0\" fill=\"rgb(11,50,64)\" fill-opacity=\"1\" /><circle cx=\"327.847\" cy=\"236.408\" r=\"10.0\" fill=\"rgb(19,79,90)\" fill-opacity=\"1\" /><circle cx=\"377.847\" cy=\"236.408\" r=\"10.0\" fill=\"rgb(248,245,246)\" fill-opacity=\"1\" /><circle cx=\"427.847\" cy=\"236.408\" r=\"10.0\" fill=\"rgb(170,23,18)\" fill-opacity=\"1\" /><circle cx=\"477.847\" cy=\"236.408\" r=\"10.0\" fill=\"rgb(213,154,96)\" fill-opacity=\"1\" /><circle cx=\"527.847\" cy=\"236.408\" r=\"10.0\" fill=\"rgb(115,155,171)\" fill-opacity=\"1\" /><circle cx=\"577.847\" cy=\"236.408\" r=\"10.0\" fill=\"rgb(101,126,158)\" fill-opacity=\"1\" /><circle cx=\"627.847\" cy=\"236.408\" r=\"10.0\" fill=\"rgb(2,25,24)\" fill-opacity=\"1\" /><circle cx=\"177.847\" cy=\"186.408\" r=\"10.0\" fill=\"rgb(115,155,171)\" fill-opacity=\"1\" /><circle cx=\"227.847\" cy=\"186.408\" r=\"10.0\" fill=\"rgb(52,107,132)\" fill-opacity=\"1\" /><circle cx=\"277.847\" cy=\"186.408\" r=\"10.0\" fill=\"rgb(213,154,96)\" fill-opacity=\"1\" /><circle cx=\"327.847\" cy=\"186.408\" r=\"10.0\" fill=\"rgb(11,50,64)\" fill-opacity=\"1\" /><circle cx=\"377.847\" cy=\"186.408\" r=\"10.0\" fill=\"rgb(124,79,99)\" fill-opacity=\"1\" /><circle cx=\"427.847\" cy=\"186.408\" r=\"10.0\" fill=\"rgb(228,92,77)\" fill-opacity=\"1\" /><circle cx=\"477.847\" cy=\"186.408\" r=\"10.0\" fill=\"rgb(170,23,18)\" fill-opacity=\"1\" /><circle cx=\"527.847\" cy=\"186.408\" r=\"10.0\" fill=\"rgb(248,245,246)\" fill-opacity=\"1\" /><circle cx=\"577.847\" cy=\"186.408\" r=\"10.0\" fill=\"rgb(122,175,156)\" fill-opacity=\"1\" /><circle cx=\"627.847\" cy=\"186.408\" r=\"10.0\" fill=\"rgb(19,79,90)\" fill-opacity=\"1\" /><circle cx=\"177.847\" cy=\"136.408\" r=\"10.0\" fill=\"rgb(177,204,185)\" fill-opacity=\"1\" /><circle cx=\"227.847\" cy=\"136.408\" r=\"10.0\" fill=\"rgb(202,142,31)\" fill-opacity=\"1\" /><circle cx=\"277.847\" cy=\"136.408\" r=\"10.0\" fill=\"rgb(229,236,239)\" fill-opacity=\"1\" /><circle cx=\"327.847\" cy=\"136.408\" r=\"10.0\" fill=\"rgb(101,126,158)\" fill-opacity=\"1\" /><circle cx=\"377.847\" cy=\"136.408\" r=\"10.0\" fill=\"rgb(101,126,158)\" fill-opacity=\"1\" /><circle cx=\"427.847\" cy=\"136.408\" r=\"10.0\" fill=\"rgb(124,79,99)\" fill-opacity=\"1\" /><circle cx=\"477.847\" cy=\"136.408\" r=\"10.0\" fill=\"rgb(192,87,108)\" fill-opacity=\"1\" /><circle cx=\"527.847\" cy=\"136.408\" r=\"10.0\" fill=\"rgb(168,21,29)\" fill-opacity=\"1\" /><circle cx=\"577.847\" cy=\"136.408\" r=\"10.0\" fill=\"rgb(235,166,171)\" fill-opacity=\"1\" /><circle cx=\"627.847\" cy=\"136.408\" r=\"10.0\" fill=\"rgb(202,142,31)\" fill-opacity=\"1\" /><circle cx=\"177.847\" cy=\"86.408\" r=\"10.0\" fill=\"rgb(47,127,123)\" fill-opacity=\"1\" /><circle cx=\"227.847\" cy=\"86.408\" r=\"10.0\" fill=\"rgb(52,107,132)\" fill-opacity=\"1\" /><circle cx=\"277.847\" cy=\"86.408\" r=\"10.0\" fill=\"rgb(242,247,244)\" fill-opacity=\"1\" /><circle cx=\"327.847\" cy=\"86.408\" r=\"10.0\" fill=\"rgb(101,126,158)\" fill-opacity=\"1\" /><circle cx=\"377.847\" cy=\"86.408\" r=\"10.0\" fill=\"rgb(244,162,160)\" fill-opacity=\"1\" /><circle cx=\"427.847\" cy=\"86.408\" r=\"10.0\" fill=\"rgb(213,154,96)\" fill-opacity=\"1\" /><circle cx=\"477.847\" cy=\"86.408\" r=\"10.0\" fill=\"rgb(226,198,131)\" fill-opacity=\"1\" /><circle cx=\"527.847\" cy=\"86.408\" r=\"10.0\" fill=\"rgb(115,155,171)\" fill-opacity=\"1\" /><circle cx=\"577.847\" cy=\"86.408\" r=\"10.0\" fill=\"rgb(226,198,131)\" fill-opacity=\"1\" /><circle cx=\"627.847\" cy=\"86.408\" r=\"10.0\" fill=\"rgb(47,127,123)\" fill-opacity=\"1\" /><circle cx=\"177.847\" cy=\"36.408\" r=\"10.0\" fill=\"rgb(244,162,160)\" fill-opacity=\"1\" /><circle cx=\"227.847\" cy=\"36.408\" r=\"10.0\" fill=\"rgb(248,245,246)\" fill-opacity=\"1\" /><circle cx=\"277.847\" cy=\"36.408\" r=\"10.0\" fill=\"rgb(229,236,239)\" fill-opacity=\"1\" /><circle cx=\"327.847\" cy=\"36.408\" r=\"10.0\" fill=\"rgb(248,245,246)\" fill-opacity=\"1\" /><circle cx=\"377.847\" cy=\"36.408\" r=\"10.0\" fill=\"rgb(235,166,171)\" fill-opacity=\"1\" /><circle cx=\"427.847\" cy=\"36.408\" r=\"10.0\" fill=\"rgb(168,21,29)\" fill-opacity=\"1\" /><circle cx=\"477.847\" cy=\"36.408\" r=\"10.0\" fill=\"rgb(170,23,18)\" fill-opacity=\"1\" /><circle cx=\"527.847\" cy=\"36.408\" r=\"10.0\" fill=\"rgb(101,126,158)\" fill-opacity=\"1\" /><circle cx=\"577.847\" cy=\"36.408\" r=\"10.0\" fill=\"rgb(250,247,244)\" fill-opacity=\"1\" /><circle cx=\"627.847\" cy=\"36.408\" r=\"10.0\" fill=\"rgb(229,236,239)\" fill-opacity=\"1\" />\n",
              "        \n",
              "        <g id=\"classic\" visibility=\"hidden\" transform=\"rotate(90,177.847,-13.592) translate(177.847, -13.592)\">\n",
              "<polygon points=\"-5,-4.5 0,-2.5 5,-4.5 0,4.5\" transform=\"skewX(0) scale(1,1)\" style=\"stroke:red;fill:red;stroke-width:1\" />\n",
              "<animateTransform id = \"one\" attributeName=\"transform\" \n",
              "                      type=\"scale\"\n",
              "                      from=\"1 1\" to=\"1 1\"\n",
              "                      begin=\"0s\" dur=\"0.01s\"\n",
              "                      repeatCount=\"1\"\n",
              "                      additive=\"sum\"\n",
              "                      fill=\"freeze\"\n",
              "            /><animateTransform attributeName=\"transform\"\n",
              "                    type=\"rotate\"\n",
              "                    from=\"0 0 0\" to =\"180 0 0\"\n",
              "                    begin=\"one.end\" dur=\"0.25s\"\n",
              "                    repeatCount=\"1\"\n",
              "                    additive=\"sum\"\n",
              "                    fill=\"freeze\"\n",
              "          /></g>\n",
              "      </svg>\n",
              "    "
            ]
          },
          "metadata": {}
        }
      ]
    }
  ]
}